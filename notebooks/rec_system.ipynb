{
 "cells": [
  {
   "cell_type": "code",
   "execution_count": 2,
   "id": "7fd8802a",
   "metadata": {},
   "outputs": [
    {
     "ename": "ModuleNotFoundError",
     "evalue": "No module named 'models'",
     "output_type": "error",
     "traceback": [
      "\u001b[0;31m---------------------------------------------------------------------------\u001b[0m",
      "\u001b[0;31mModuleNotFoundError\u001b[0m                       Traceback (most recent call last)",
      "Cell \u001b[0;32mIn[2], line 4\u001b[0m\n\u001b[1;32m      1\u001b[0m \u001b[38;5;28;01mfrom\u001b[39;00m \u001b[38;5;21;01mpprint\u001b[39;00m \u001b[38;5;28;01mimport\u001b[39;00m pprint\n\u001b[1;32m      2\u001b[0m \u001b[38;5;28;01mfrom\u001b[39;00m \u001b[38;5;21;01mtyping\u001b[39;00m \u001b[38;5;28;01mimport\u001b[39;00m Dict, Text, Tuple\n\u001b[0;32m----> 4\u001b[0m \u001b[38;5;28;01mfrom\u001b[39;00m \u001b[38;5;21;01mmodels\u001b[39;00m \u001b[38;5;28;01mimport\u001b[39;00m RetrievalModel, RankingModel\n\u001b[1;32m      6\u001b[0m \u001b[38;5;28;01mimport\u001b[39;00m \u001b[38;5;21;01mnumpy\u001b[39;00m \u001b[38;5;28;01mas\u001b[39;00m \u001b[38;5;21;01mnp\u001b[39;00m\n\u001b[1;32m      7\u001b[0m \u001b[38;5;28;01mimport\u001b[39;00m \u001b[38;5;21;01mpandas\u001b[39;00m \u001b[38;5;28;01mas\u001b[39;00m \u001b[38;5;21;01mpd\u001b[39;00m\n",
      "\u001b[0;31mModuleNotFoundError\u001b[0m: No module named 'models'"
     ]
    }
   ],
   "source": [
    "from pprint import pprint\n",
    "from typing import Dict, Text, Tuple\n",
    "\n",
    "from models import RetrievalModel, RankingModel\n",
    "\n",
    "import numpy as np\n",
    "import pandas as pd\n",
    "import tensorflow as tf\n",
    "\n",
    "import tensorflow_datasets as tfds\n",
    "import tensorflow_ranking as tfr\n",
    "import tensorflow_recommenders as tfrs"
   ]
  },
  {
   "cell_type": "code",
   "execution_count": 3,
   "id": "f8b6de59",
   "metadata": {},
   "outputs": [
    {
     "ename": "NameError",
     "evalue": "name 'pd' is not defined",
     "output_type": "error",
     "traceback": [
      "\u001b[0;31m---------------------------------------------------------------------------\u001b[0m",
      "\u001b[0;31mNameError\u001b[0m                                 Traceback (most recent call last)",
      "Cell \u001b[0;32mIn[3], line 1\u001b[0m\n\u001b[0;32m----> 1\u001b[0m customer_ratings_df \u001b[38;5;241m=\u001b[39m \u001b[43mpd\u001b[49m\u001b[38;5;241m.\u001b[39mread_csv(\u001b[38;5;124m'\u001b[39m\u001b[38;5;124m../datasets/clean_data.csv\u001b[39m\u001b[38;5;124m'\u001b[39m)\n\u001b[1;32m      2\u001b[0m operators_df \u001b[38;5;241m=\u001b[39m customer_ratings_df[\u001b[38;5;124m'\u001b[39m\u001b[38;5;124moperator\u001b[39m\u001b[38;5;124m'\u001b[39m]\u001b[38;5;241m.\u001b[39munique()\n",
      "\u001b[0;31mNameError\u001b[0m: name 'pd' is not defined"
     ]
    }
   ],
   "source": [
    "customer_ratings_df = pd.read_csv('../datasets/clean_data.csv')\n",
    "operators_df = customer_ratings_df['operator'].unique()"
   ]
  },
  {
   "cell_type": "code",
   "execution_count": null,
   "id": "7a1ae899",
   "metadata": {},
   "outputs": [],
   "source": [
    "customer_ratings_df = customer_ratings_df[:8000].copy()"
   ]
  },
  {
   "cell_type": "code",
   "execution_count": null,
   "id": "2e9b4911",
   "metadata": {},
   "outputs": [],
   "source": [
    "customer_ratings = tf.data.Dataset.from_tensor_slices(dict(customer_ratings_df))\n",
    "operators = tf.data.Dataset.from_tensor_slices(operators_df)"
   ]
  },
  {
   "cell_type": "code",
   "execution_count": null,
   "id": "a28e577d",
   "metadata": {},
   "outputs": [],
   "source": [
    "customer_ratings = customer_ratings.map(lambda x: {\n",
    "    'operator_name': x['operator'],\n",
    "    'customer_name': x['customer_name'],\n",
    "    'ticket_subject': x['ticket_subject']\n",
    "})"
   ]
  },
  {
   "cell_type": "code",
   "execution_count": null,
   "id": "34b688b4",
   "metadata": {},
   "outputs": [],
   "source": [
    "tf.random.set_seed(42)\n",
    "shuffled = customer_ratings.shuffle(8_000, seed=42, reshuffle_each_iteration=False)\n",
    "\n",
    "train = shuffled.take(6_400)\n",
    "test = shuffled.skip(6_400).take(1_600)"
   ]
  },
  {
   "cell_type": "code",
   "execution_count": null,
   "id": "f8c4876f",
   "metadata": {},
   "outputs": [],
   "source": [
    "operator_names = operators.batch(2_000)\n",
    "customer_names = customer_ratings.batch(4_000).map(lambda x: x[\"customer_name\"])\n",
    "ticket_subjects = customer_ratings.batch(200).map(lambda x: x['ticket_subject'])"
   ]
  },
  {
   "cell_type": "code",
   "execution_count": null,
   "id": "77ebbde9",
   "metadata": {},
   "outputs": [],
   "source": [
    "unique_operator_names = np.unique(np.concatenate(list(operator_names)))\n",
    "unique_customer_names = np.unique(np.concatenate(list(customer_names)))"
   ]
  },
  {
   "cell_type": "code",
   "execution_count": null,
   "id": "669e9bff",
   "metadata": {},
   "outputs": [],
   "source": [
    "for x in train.take(10).as_numpy_iterator():\n",
    "    pprint(x)"
   ]
  },
  {
   "cell_type": "markdown",
   "id": "9a8f6607",
   "metadata": {},
   "source": [
    "---"
   ]
  },
  {
   "cell_type": "markdown",
   "id": "1dca3806",
   "metadata": {},
   "source": [
    "# Модель пошуку"
   ]
  },
  {
   "cell_type": "code",
   "execution_count": null,
   "id": "08b43e2e",
   "metadata": {},
   "outputs": [],
   "source": [
    "retrieval_model = RetrievalModel(\n",
    "    operators=operators,\n",
    "    layer_sizes=[1024, 512, 128, 64, 32],\n",
    "    unique_customer_names=unique_customer_names,\n",
    "    unique_operator_names=unique_operator_names,\n",
    "    ticket_subjects=ticket_subjects\n",
    ")"
   ]
  },
  {
   "cell_type": "code",
   "execution_count": null,
   "id": "81c5bb40",
   "metadata": {},
   "outputs": [],
   "source": [
    "retrieval_model.compile(optimizer=tf.keras.optimizers.Adagrad(learning_rate=0.02))"
   ]
  },
  {
   "cell_type": "code",
   "execution_count": null,
   "id": "48a68222",
   "metadata": {},
   "outputs": [],
   "source": [
    "cached_train = train.shuffle(6_000).batch(10000).cache()\n",
    "cached_test = test.batch(4000).cache()"
   ]
  },
  {
   "cell_type": "code",
   "execution_count": null,
   "id": "72cd70a2",
   "metadata": {
    "scrolled": true
   },
   "outputs": [],
   "source": [
    "retrieval_model.fit(\n",
    "    cached_train, \n",
    "    epochs=100,\n",
    "    validation_data=cached_test,\n",
    "    validation_freq=5,\n",
    "    verbose=0\n",
    ")"
   ]
  },
  {
   "cell_type": "code",
   "execution_count": null,
   "id": "a545219e",
   "metadata": {},
   "outputs": [],
   "source": [
    "retrieval_model.evaluate(cached_test, return_dict=True)"
   ]
  },
  {
   "cell_type": "code",
   "execution_count": null,
   "id": "718f8eb5",
   "metadata": {},
   "outputs": [],
   "source": [
    "index = tfrs.layers.factorized_top_k.BruteForce(retrieval_model.query_model, k=20)"
   ]
  },
  {
   "cell_type": "code",
   "execution_count": null,
   "id": "363254e3",
   "metadata": {},
   "outputs": [],
   "source": [
    "index.index_from_dataset(\n",
    "  tf.data.Dataset.zip((operators.batch(100), operators.batch(100).map(retrieval_model.candidate_model)))\n",
    ")"
   ]
  },
  {
   "cell_type": "markdown",
   "id": "e83a5436",
   "metadata": {},
   "source": [
    "# Задаємо ім'я клієнта та тему звернення"
   ]
  },
  {
   "cell_type": "code",
   "execution_count": 160,
   "id": "acec9903",
   "metadata": {},
   "outputs": [],
   "source": [
    "customer_test = {'customer_name': tf.expand_dims('Heather Love', axis=0), \n",
    "                 'ticket_subject': tf.expand_dims('Product setup', axis=0)\n",
    "                }"
   ]
  },
  {
   "cell_type": "code",
   "execution_count": 161,
   "id": "4f5753cf",
   "metadata": {
    "scrolled": false
   },
   "outputs": [
    {
     "name": "stdout",
     "output_type": "stream",
     "text": [
      "Recommendations for customer [b'Heather Love']: [b'Alexandra Aguilar' b'Sheila Miranda' b'Tracy Green' b'Johnny Phelps'\n",
      " b'Brandi Guerrero' b'Mr. Michael Wilcox III' b'Michael Young'\n",
      " b'Jennifer Jones' b'Stephanie Green' b'Brenda Boyle' b'Devin Murillo'\n",
      " b'Isaiah Martinez' b'Stephen Turner' b'Edward Jones' b'Wayne George'\n",
      " b'Justin Walter' b'Kelsey Olson' b'Breanna Melton' b'Anthony Pearson'\n",
      " b'Cody Fisher']\n"
     ]
    }
   ],
   "source": [
    "_, operator_suggestions = index(customer_test)\n",
    "print(\n",
    "    f\"Recommendations for customer {customer_test['customer_name']}: {operator_suggestions[0, :]}\"\n",
    ")"
   ]
  },
  {
   "cell_type": "markdown",
   "id": "b72cdfa2",
   "metadata": {},
   "source": [
    "---"
   ]
  },
  {
   "cell_type": "markdown",
   "id": "1926df8e",
   "metadata": {},
   "source": [
    "# Модель ренкінгу"
   ]
  },
  {
   "cell_type": "code",
   "execution_count": null,
   "id": "6b4cd1e8",
   "metadata": {},
   "outputs": [],
   "source": [
    "ratings = tf.data.Dataset.from_tensor_slices({\n",
    "    'operator_name': customer_ratings_df['operator'],\n",
    "    'customer_name': customer_ratings_df['customer_name'],\n",
    "    'rating': customer_ratings_df['customer_satisfaction_rating'],\n",
    "})"
   ]
  },
  {
   "cell_type": "code",
   "execution_count": null,
   "id": "139d6363",
   "metadata": {},
   "outputs": [],
   "source": [
    "tf.random.set_seed(42)\n",
    "shuffled = ratings.shuffle(8_000, seed=42, reshuffle_each_iteration=False)\n",
    "\n",
    "train = shuffled.take(6_400)\n",
    "test = shuffled.skip(6_400).take(1_600)"
   ]
  },
  {
   "cell_type": "code",
   "execution_count": null,
   "id": "30ecc91c",
   "metadata": {},
   "outputs": [],
   "source": [
    "ranking_model = RankingModel(\n",
    "    unique_customer_names=unique_customer_names, \n",
    "    unique_operator_names=unique_operator_names)"
   ]
  },
  {
   "cell_type": "code",
   "execution_count": null,
   "id": "1a3283d4",
   "metadata": {},
   "outputs": [],
   "source": [
    "ranking_model.compile(optimizer=tf.keras.optimizers.Adagrad(learning_rate=0.02))"
   ]
  },
  {
   "cell_type": "code",
   "execution_count": null,
   "id": "333b606c",
   "metadata": {},
   "outputs": [],
   "source": [
    "cached_train = train.shuffle(6_000).batch(10000).cache()\n",
    "cached_test = test.batch(4000).cache()"
   ]
  },
  {
   "cell_type": "code",
   "execution_count": null,
   "id": "68484351",
   "metadata": {
    "scrolled": true
   },
   "outputs": [],
   "source": [
    "ranking_model.fit(cached_train, epochs=500)"
   ]
  },
  {
   "cell_type": "code",
   "execution_count": null,
   "id": "61e275cc",
   "metadata": {},
   "outputs": [],
   "source": [
    "ranking_model.evaluate(cached_test, return_dict=True)"
   ]
  },
  {
   "cell_type": "markdown",
   "id": "30295439",
   "metadata": {},
   "source": [
    "# Беремо список рекомендованих операторів отриманих з моделі пошуку та передаємо їх до моделі ренкінгу"
   ]
  },
  {
   "cell_type": "code",
   "execution_count": 162,
   "id": "7fa6b165",
   "metadata": {},
   "outputs": [],
   "source": [
    "suggested_titles = operator_suggestions[0].numpy()"
   ]
  },
  {
   "cell_type": "code",
   "execution_count": 163,
   "id": "f675f7d4",
   "metadata": {},
   "outputs": [
    {
     "data": {
      "text/plain": [
       "array([b'Alexandra Aguilar', b'Sheila Miranda', b'Tracy Green',\n",
       "       b'Johnny Phelps', b'Brandi Guerrero', b'Mr. Michael Wilcox III',\n",
       "       b'Michael Young', b'Jennifer Jones', b'Stephanie Green',\n",
       "       b'Brenda Boyle', b'Devin Murillo', b'Isaiah Martinez',\n",
       "       b'Stephen Turner', b'Edward Jones', b'Wayne George',\n",
       "       b'Justin Walter', b'Kelsey Olson', b'Breanna Melton',\n",
       "       b'Anthony Pearson', b'Cody Fisher'], dtype=object)"
      ]
     },
     "execution_count": 163,
     "metadata": {},
     "output_type": "execute_result"
    }
   ],
   "source": [
    "suggested_titles"
   ]
  },
  {
   "cell_type": "code",
   "execution_count": 164,
   "id": "d3e13457",
   "metadata": {},
   "outputs": [],
   "source": [
    "test_ratings = {}\n",
    "for operator_name in suggested_titles:\n",
    "    test_ratings[operator_name] = ranking_model({\n",
    "        \"customer_name\": np.array(['Heather Love']),\n",
    "        \"operator_name\": np.array([operator_name])\n",
    "    })"
   ]
  },
  {
   "cell_type": "code",
   "execution_count": 165,
   "id": "d6c804ed",
   "metadata": {},
   "outputs": [
    {
     "name": "stdout",
     "output_type": "stream",
     "text": [
      "Ratings:\n",
      "operator name: b'Jennifer Jones': [[3.9012105]]\n",
      "operator name: b'Devin Murillo': [[3.6597815]]\n",
      "operator name: b'Brandi Guerrero': [[3.5479312]]\n",
      "operator name: b'Stephanie Green': [[3.5460553]]\n",
      "operator name: b'Alexandra Aguilar': [[3.521015]]\n",
      "operator name: b'Johnny Phelps': [[3.4977694]]\n",
      "operator name: b'Tracy Green': [[3.490428]]\n",
      "operator name: b'Edward Jones': [[3.4166121]]\n",
      "operator name: b'Isaiah Martinez': [[3.4134097]]\n",
      "operator name: b'Mr. Michael Wilcox III': [[3.093484]]\n",
      "operator name: b'Kelsey Olson': [[3.033016]]\n",
      "operator name: b'Sheila Miranda': [[2.9572043]]\n",
      "operator name: b'Brenda Boyle': [[2.9271116]]\n",
      "operator name: b'Wayne George': [[2.8979099]]\n",
      "operator name: b'Cody Fisher': [[2.8560028]]\n",
      "operator name: b'Breanna Melton': [[2.855464]]\n",
      "operator name: b'Stephen Turner': [[2.8500922]]\n",
      "operator name: b'Justin Walter': [[2.8345716]]\n",
      "operator name: b'Michael Young': [[2.7107525]]\n",
      "operator name: b'Anthony Pearson': [[2.676967]]\n"
     ]
    }
   ],
   "source": [
    "print(\"Ratings:\")\n",
    "for title, score in sorted(test_ratings.items(), key=lambda x: x[1], reverse=True):\n",
    "    print(f\"operator name: {title}: {score}\")"
   ]
  },
  {
   "cell_type": "code",
   "execution_count": null,
   "id": "36074e04",
   "metadata": {},
   "outputs": [],
   "source": [
    "filtered_df = customer_ratings_df[customer_ratings_df['operator'].isin(operator_suggestions[0].numpy().astype(str))]"
   ]
  },
  {
   "cell_type": "code",
   "execution_count": null,
   "id": "78bdfae8",
   "metadata": {
    "scrolled": false
   },
   "outputs": [],
   "source": [
    "filtered_df.groupby('operator')['customer_satisfaction_rating'].mean().sort_values(ascending=False)"
   ]
  },
  {
   "cell_type": "code",
   "execution_count": null,
   "id": "2194293f",
   "metadata": {},
   "outputs": [],
   "source": [
    "filtered_df['ticket_subject'].value_counts()"
   ]
  }
 ],
 "metadata": {
  "kernelspec": {
   "display_name": "rec-system",
   "language": "python",
   "name": "rec-system"
  },
  "language_info": {
   "codemirror_mode": {
    "name": "ipython",
    "version": 3
   },
   "file_extension": ".py",
   "mimetype": "text/x-python",
   "name": "python",
   "nbconvert_exporter": "python",
   "pygments_lexer": "ipython3",
   "version": "3.11.7"
  }
 },
 "nbformat": 4,
 "nbformat_minor": 5
}
