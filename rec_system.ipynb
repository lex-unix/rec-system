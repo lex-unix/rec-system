{
  "cells": [
    {
      "cell_type": "code",
      "execution_count": null,
      "id": "4b5453f0",
      "metadata": {},
      "outputs": [],
      "source": [
        "from pprint import pprint\n",
        "from typing import Dict, Text, Tuple\n",
        "\n",
        "from models import RetrievalModel, RankingModel\n",
        "\n",
        "import numpy as np\n",
        "import pandas as pd\n",
        "import tensorflow as tf\n",
        "\n",
        "import tensorflow_datasets as tfds\n",
        "import tensorflow_ranking as tfr\n",
        "import tensorflow_recommenders as tfrs"
      ]
    },
    {
      "cell_type": "code",
      "execution_count": null,
      "id": "308ce926",
      "metadata": {},
      "outputs": [],
      "source": [
        "customer_ratings_df = pd.read_csv('clean_data.csv')\n",
        "operators_df = customer_ratings_df['operator'].unique()"
      ]
    },
    {
      "cell_type": "code",
      "execution_count": null,
      "id": "b42fa8eb",
      "metadata": {},
      "outputs": [],
      "source": [
        "customer_ratings_df = customer_ratings_df[:8000].copy()"
      ]
    },
    {
      "cell_type": "code",
      "execution_count": null,
      "id": "9c18e418",
      "metadata": {},
      "outputs": [],
      "source": [
        "customer_ratings = tf.data.Dataset.from_tensor_slices(dict(customer_ratings_df))\n",
        "operators = tf.data.Dataset.from_tensor_slices(operators_df)"
      ]
    },
    {
      "cell_type": "code",
      "execution_count": null,
      "id": "93cf8053",
      "metadata": {},
      "outputs": [],
      "source": [
        "customer_ratings = customer_ratings.map(lambda x: {\n",
        "    'operator_name': x['operator'],\n",
        "    'customer_name': x['customer_name'],\n",
        "    'ticket_subject': x['ticket_subject']\n",
        "})"
      ]
    },
    {
      "cell_type": "code",
      "execution_count": null,
      "id": "7c191547",
      "metadata": {},
      "outputs": [],
      "source": [
        "tf.random.set_seed(42)\n",
        "shuffled = customer_ratings.shuffle(8_000, seed=42, reshuffle_each_iteration=False)\n",
        "\n",
        "train = shuffled.take(6_400)\n",
        "test = shuffled.skip(6_400).take(1_600)"
      ]
    },
    {
      "cell_type": "code",
      "execution_count": null,
      "id": "8f4829f4",
      "metadata": {},
      "outputs": [],
      "source": [
        "operator_names = operators.batch(2_000)\n",
        "customer_names = customer_ratings.batch(4_000).map(lambda x: x[\"customer_name\"])\n",
        "ticket_subjects = customer_ratings.batch(200).map(lambda x: x['ticket_subject'])"
      ]
    },
    {
      "cell_type": "code",
      "execution_count": null,
      "id": "c196a1c1",
      "metadata": {},
      "outputs": [],
      "source": [
        "unique_operator_names = np.unique(np.concatenate(list(operator_names)))\n",
        "unique_customer_names = np.unique(np.concatenate(list(customer_names)))"
      ]
    },
    {
      "cell_type": "code",
      "execution_count": null,
      "id": "85f67c6d",
      "metadata": {},
      "outputs": [],
      "source": [
        "for x in train.take(10).as_numpy_iterator():\n",
        "    pprint(x)"
      ]
    },
    {
      "cell_type": "markdown",
      "id": "0c13885f",
      "metadata": {},
      "source": [
        "---"
      ]
    },
    {
      "cell_type": "markdown",
      "id": "b3bf3983",
      "metadata": {},
      "source": [
        "# Модель пошуку"
      ]
    },
    {
      "cell_type": "code",
      "execution_count": null,
      "id": "08b0a5ff",
      "metadata": {},
      "outputs": [],
      "source": [
        "retrieval_model = RetrievalModel(\n",
        "    operators=operators,\n",
        "    layer_sizes=[1024, 512, 128, 64, 32],\n",
        "    unique_customer_names=unique_customer_names,\n",
        "    unique_operator_names=unique_operator_names,\n",
        "    ticket_subjects=ticket_subjects\n",
        ")"
      ]
    },
    {
      "cell_type": "code",
      "execution_count": null,
      "id": "7e131d7e",
      "metadata": {},
      "outputs": [],
      "source": [
        "retrieval_model.compile(optimizer=tf.keras.optimizers.Adagrad(learning_rate=0.02))"
      ]
    },
    {
      "cell_type": "code",
      "execution_count": null,
      "id": "1582edb7",
      "metadata": {},
      "outputs": [],
      "source": [
        "cached_train = train.shuffle(6_000).batch(10000).cache()\n",
        "cached_test = test.batch(4000).cache()"
      ]
    },
    {
      "cell_type": "code",
      "execution_count": null,
      "id": "d80e77f1",
      "metadata": {
        "scrolled": true
      },
      "outputs": [],
      "source": [
        "retrieval_model.fit(\n",
        "    cached_train, \n",
        "    epochs=100,\n",
        "    validation_data=cached_test,\n",
        "    validation_freq=5,\n",
        "    verbose=0\n",
        ")"
      ]
    },
    {
      "cell_type": "code",
      "execution_count": null,
      "id": "898c1524",
      "metadata": {},
      "outputs": [],
      "source": [
        "retrieval_model.evaluate(cached_test, return_dict=True)"
      ]
    },
    {
      "cell_type": "code",
      "execution_count": null,
      "id": "2f1ac911",
      "metadata": {},
      "outputs": [],
      "source": [
        "index = tfrs.layers.factorized_top_k.BruteForce(retrieval_model.query_model, k=20)"
      ]
    },
    {
      "cell_type": "code",
      "execution_count": null,
      "id": "8accba42",
      "metadata": {},
      "outputs": [],
      "source": [
        "index.index_from_dataset(\n",
        "  tf.data.Dataset.zip((operators.batch(100), operators.batch(100).map(retrieval_model.candidate_model)))\n",
        ")"
      ]
    },
    {
      "cell_type": "markdown",
      "id": "1f84a79b",
      "metadata": {},
      "source": [
        "# Задаємо ім'я клієнта та тему звернення"
      ]
    },
    {
      "cell_type": "code",
      "execution_count": 160,
      "id": "d5046a09",
      "metadata": {},
      "outputs": [],
      "source": [
        "customer_test = {'customer_name': tf.expand_dims('Heather Love', axis=0), \n",
        "                 'ticket_subject': tf.expand_dims('Product setup', axis=0)\n",
        "                }"
      ]
    },
    {
      "cell_type": "code",
      "execution_count": 161,
      "id": "78b5ba9f",
      "metadata": {
        "scrolled": false
      },
      "outputs": [
        {
          "name": "stdout",
          "output_type": "stream",
          "text": [
            "Recommendations for customer [b'Heather Love']: [b'Alexandra Aguilar' b'Sheila Miranda' b'Tracy Green' b'Johnny Phelps'\n",
            " b'Brandi Guerrero' b'Mr. Michael Wilcox III' b'Michael Young'\n",
            " b'Jennifer Jones' b'Stephanie Green' b'Brenda Boyle' b'Devin Murillo'\n",
            " b'Isaiah Martinez' b'Stephen Turner' b'Edward Jones' b'Wayne George'\n",
            " b'Justin Walter' b'Kelsey Olson' b'Breanna Melton' b'Anthony Pearson'\n",
            " b'Cody Fisher']\n"
          ]
        }
      ],
      "source": [
        "_, operator_suggestions = index(customer_test)\n",
        "print(\n",
        "    f\"Recommendations for customer {customer_test['customer_name']}: {operator_suggestions[0, :]}\"\n",
        ")"
      ]
    },
    {
      "cell_type": "markdown",
      "id": "3d4b46f3",
      "metadata": {},
      "source": [
        "---"
      ]
    },
    {
      "cell_type": "markdown",
      "id": "0558216e",
      "metadata": {},
      "source": [
        "# Модель ренкінгу"
      ]
    },
    {
      "cell_type": "code",
      "execution_count": null,
      "id": "96047eea",
      "metadata": {},
      "outputs": [],
      "source": [
        "ratings = tf.data.Dataset.from_tensor_slices({\n",
        "    'operator_name': customer_ratings_df['operator'],\n",
        "    'customer_name': customer_ratings_df['customer_name'],\n",
        "    'rating': customer_ratings_df['customer_satisfaction_rating'],\n",
        "})"
      ]
    },
    {
      "cell_type": "code",
      "execution_count": null,
      "id": "07289952",
      "metadata": {},
      "outputs": [],
      "source": [
        "tf.random.set_seed(42)\n",
        "shuffled = ratings.shuffle(8_000, seed=42, reshuffle_each_iteration=False)\n",
        "\n",
        "train = shuffled.take(6_400)\n",
        "test = shuffled.skip(6_400).take(1_600)"
      ]
    },
    {
      "cell_type": "code",
      "execution_count": null,
      "id": "aba59377",
      "metadata": {},
      "outputs": [],
      "source": [
        "ranking_model = RankingModel(\n",
        "    unique_customer_names=unique_customer_names, \n",
        "    unique_operator_names=unique_operator_names)"
      ]
    },
    {
      "cell_type": "code",
      "execution_count": null,
      "id": "5ff5796a",
      "metadata": {},
      "outputs": [],
      "source": [
        "ranking_model.compile(optimizer=tf.keras.optimizers.Adagrad(learning_rate=0.02))"
      ]
    },
    {
      "cell_type": "code",
      "execution_count": null,
      "id": "a4f23877",
      "metadata": {},
      "outputs": [],
      "source": [
        "cached_train = train.shuffle(6_000).batch(10000).cache()\n",
        "cached_test = test.batch(4000).cache()"
      ]
    },
    {
      "cell_type": "code",
      "execution_count": null,
      "id": "2efce1d1",
      "metadata": {
        "scrolled": true
      },
      "outputs": [],
      "source": [
        "ranking_model.fit(cached_train, epochs=500)"
      ]
    },
    {
      "cell_type": "code",
      "execution_count": null,
      "id": "d585baa9",
      "metadata": {},
      "outputs": [],
      "source": [
        "ranking_model.evaluate(cached_test, return_dict=True)"
      ]
    },
    {
      "cell_type": "markdown",
      "id": "7de0d54e",
      "metadata": {},
      "source": [
        "# Беремо список рекомендованих операторів отриманих з моделі пошуку та передаємо їх до моделі ренкінгу"
      ]
    },
    {
      "cell_type": "code",
      "execution_count": 162,
      "id": "7e26f89d",
      "metadata": {},
      "outputs": [],
      "source": [
        "suggested_titles = operator_suggestions[0].numpy()"
      ]
    },
    {
      "cell_type": "code",
      "execution_count": 163,
      "id": "2b82655c",
      "metadata": {},
      "outputs": [
        {
          "data": {
            "text/plain": [
              "array([b'Alexandra Aguilar', b'Sheila Miranda', b'Tracy Green',\n",
              "       b'Johnny Phelps', b'Brandi Guerrero', b'Mr. Michael Wilcox III',\n",
              "       b'Michael Young', b'Jennifer Jones', b'Stephanie Green',\n",
              "       b'Brenda Boyle', b'Devin Murillo', b'Isaiah Martinez',\n",
              "       b'Stephen Turner', b'Edward Jones', b'Wayne George',\n",
              "       b'Justin Walter', b'Kelsey Olson', b'Breanna Melton',\n",
              "       b'Anthony Pearson', b'Cody Fisher'], dtype=object)"
            ]
          },
          "execution_count": 163,
          "metadata": {},
          "output_type": "execute_result"
        }
      ],
      "source": [
        "suggested_titles"
      ]
    },
    {
      "cell_type": "code",
      "execution_count": 164,
      "id": "a77d3533",
      "metadata": {},
      "outputs": [],
      "source": [
        "test_ratings = {}\n",
        "for operator_name in suggested_titles:\n",
        "    test_ratings[operator_name] = ranking_model({\n",
        "        \"customer_name\": np.array(['Heather Love']),\n",
        "        \"operator_name\": np.array([operator_name])\n",
        "    })"
      ]
    },
    {
      "cell_type": "code",
      "execution_count": 165,
      "id": "0e67a5e6",
      "metadata": {},
      "outputs": [
        {
          "name": "stdout",
          "output_type": "stream",
          "text": [
            "Ratings:\n",
            "operator name: b'Jennifer Jones': [[3.9012105]]\n",
            "operator name: b'Devin Murillo': [[3.6597815]]\n",
            "operator name: b'Brandi Guerrero': [[3.5479312]]\n",
            "operator name: b'Stephanie Green': [[3.5460553]]\n",
            "operator name: b'Alexandra Aguilar': [[3.521015]]\n",
            "operator name: b'Johnny Phelps': [[3.4977694]]\n",
            "operator name: b'Tracy Green': [[3.490428]]\n",
            "operator name: b'Edward Jones': [[3.4166121]]\n",
            "operator name: b'Isaiah Martinez': [[3.4134097]]\n",
            "operator name: b'Mr. Michael Wilcox III': [[3.093484]]\n",
            "operator name: b'Kelsey Olson': [[3.033016]]\n",
            "operator name: b'Sheila Miranda': [[2.9572043]]\n",
            "operator name: b'Brenda Boyle': [[2.9271116]]\n",
            "operator name: b'Wayne George': [[2.8979099]]\n",
            "operator name: b'Cody Fisher': [[2.8560028]]\n",
            "operator name: b'Breanna Melton': [[2.855464]]\n",
            "operator name: b'Stephen Turner': [[2.8500922]]\n",
            "operator name: b'Justin Walter': [[2.8345716]]\n",
            "operator name: b'Michael Young': [[2.7107525]]\n",
            "operator name: b'Anthony Pearson': [[2.676967]]\n"
          ]
        }
      ],
      "source": [
        "print(\"Ratings:\")\n",
        "for title, score in sorted(test_ratings.items(), key=lambda x: x[1], reverse=True):\n",
        "    print(f\"operator name: {title}: {score}\")"
      ]
    },
    {
      "cell_type": "code",
      "execution_count": null,
      "id": "449e9159",
      "metadata": {},
      "outputs": [],
      "source": [
        "filtered_df = customer_ratings_df[customer_ratings_df['operator'].isin(operator_suggestions[0].numpy().astype(str))]"
      ]
    },
    {
      "cell_type": "code",
      "execution_count": null,
      "id": "99d51b66",
      "metadata": {
        "scrolled": false
      },
      "outputs": [],
      "source": [
        "filtered_df.groupby('operator')['customer_satisfaction_rating'].mean().sort_values(ascending=False)"
      ]
    },
    {
      "cell_type": "code",
      "execution_count": null,
      "id": "c4ef7559",
      "metadata": {},
      "outputs": [],
      "source": [
        "filtered_df['ticket_subject'].value_counts()"
      ]
    }
  ],
  "metadata": {
    "kernelspec": {
      "display_name": "rec-system",
      "language": "python",
      "name": "rec-system"
    },
    "language_info": {
      "codemirror_mode": {
        "name": "ipython",
        "version": 3
      },
      "file_extension": ".py",
      "mimetype": "text/x-python",
      "name": "python",
      "nbconvert_exporter": "python",
      "pygments_lexer": "ipython3",
      "version": "3.11.6"
    }
  },
  "nbformat": 4,
  "nbformat_minor": 5
}
